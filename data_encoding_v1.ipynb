{
 "cells": [
  {
   "cell_type": "code",
   "execution_count": 1,
   "metadata": {},
   "outputs": [],
   "source": [
    "import numpy as np\n",
    "import pandas as pd\n",
    "import matplotlib.pyplot as plt\n",
    "import os\n",
    "\n",
    "from PIL import Image\n",
    "from sklearn.model_selection import train_test_split\n",
    "from pathlib import Path\n",
    "from typing import Tuple, List, Dict\n",
    "\n",
    "from qiskit import QuantumCircuit, QuantumRegister, ClassicalRegister\n",
    "from qiskit.circuit import Parameter\n",
    "from qiskit.quantum_info import Statevector\n",
    "from qiskit.visualization import circuit_drawer\n",
    "from qiskit_aer import AerSimulator\n",
    "from qiskit import transpile"
   ]
  },
  {
   "cell_type": "code",
   "execution_count": 2,
   "metadata": {},
   "outputs": [
    {
     "name": "stdout",
     "output_type": "stream",
     "text": [
      "Dataset information:\n",
      "Number of training samples: 39209\n",
      "Number of test samples: 12630\n",
      "\n",
      "Meta data sample:\n"
     ]
    },
    {
     "data": {
      "text/html": [
       "<div>\n",
       "<style scoped>\n",
       "    .dataframe tbody tr th:only-of-type {\n",
       "        vertical-align: middle;\n",
       "    }\n",
       "\n",
       "    .dataframe tbody tr th {\n",
       "        vertical-align: top;\n",
       "    }\n",
       "\n",
       "    .dataframe thead th {\n",
       "        text-align: right;\n",
       "    }\n",
       "</style>\n",
       "<table border=\"1\" class=\"dataframe\">\n",
       "  <thead>\n",
       "    <tr style=\"text-align: right;\">\n",
       "      <th></th>\n",
       "      <th>Path</th>\n",
       "      <th>ClassId</th>\n",
       "      <th>ShapeId</th>\n",
       "      <th>ColorId</th>\n",
       "      <th>SignId</th>\n",
       "    </tr>\n",
       "  </thead>\n",
       "  <tbody>\n",
       "    <tr>\n",
       "      <th>0</th>\n",
       "      <td>Meta/27.png</td>\n",
       "      <td>27</td>\n",
       "      <td>0</td>\n",
       "      <td>0</td>\n",
       "      <td>1.32</td>\n",
       "    </tr>\n",
       "    <tr>\n",
       "      <th>1</th>\n",
       "      <td>Meta/0.png</td>\n",
       "      <td>0</td>\n",
       "      <td>1</td>\n",
       "      <td>0</td>\n",
       "      <td>3.29</td>\n",
       "    </tr>\n",
       "    <tr>\n",
       "      <th>2</th>\n",
       "      <td>Meta/1.png</td>\n",
       "      <td>1</td>\n",
       "      <td>1</td>\n",
       "      <td>0</td>\n",
       "      <td>3.29</td>\n",
       "    </tr>\n",
       "    <tr>\n",
       "      <th>3</th>\n",
       "      <td>Meta/10.png</td>\n",
       "      <td>10</td>\n",
       "      <td>1</td>\n",
       "      <td>0</td>\n",
       "      <td>3.27</td>\n",
       "    </tr>\n",
       "    <tr>\n",
       "      <th>4</th>\n",
       "      <td>Meta/11.png</td>\n",
       "      <td>11</td>\n",
       "      <td>0</td>\n",
       "      <td>0</td>\n",
       "      <td>1.22</td>\n",
       "    </tr>\n",
       "  </tbody>\n",
       "</table>\n",
       "</div>"
      ],
      "text/plain": [
       "          Path  ClassId  ShapeId  ColorId SignId\n",
       "0  Meta/27.png       27        0        0   1.32\n",
       "1   Meta/0.png        0        1        0   3.29\n",
       "2   Meta/1.png        1        1        0   3.29\n",
       "3  Meta/10.png       10        1        0   3.27\n",
       "4  Meta/11.png       11        0        0   1.22"
      ]
     },
     "metadata": {},
     "output_type": "display_data"
    }
   ],
   "source": [
    "# Read the CSV files\n",
    "meta_df = pd.read_csv(\"Meta.csv\")\n",
    "train_df = pd.read_csv(\"Train.csv\")\n",
    "test_df = pd.read_csv(\"Test.csv\")\n",
    "\n",
    "# Display basic information\n",
    "print(\"Dataset information:\")\n",
    "print(f\"Number of training samples: {len(train_df)}\")\n",
    "print(f\"Number of test samples: {len(test_df)}\")\n",
    "print(\"\\nMeta data sample:\")\n",
    "display(meta_df.head())"
   ]
  },
  {
   "cell_type": "code",
   "execution_count": 4,
   "metadata": {},
   "outputs": [],
   "source": [
    "def preprocess_image(image_path: str, size: tuple = (32, 32)) -> np.ndarray:\n",
    "    # Preprocess image for quantum encoding.\n",
    "\n",
    "    try:\n",
    "        # Load and resize image\n",
    "        image = Image.open(image_path)\n",
    "        image = image.resize(size)\n",
    "        \n",
    "        # Convert to numpy array and normalize\n",
    "        normalized = np.array(image) / 255.0\n",
    "        \n",
    "        # Flatten and combine RGB channels\n",
    "        r = normalized[:,:,0].flatten()\n",
    "        g = normalized[:,:,1].flatten()\n",
    "        b = normalized[:,:,2].flatten()\n",
    "        combined = np.concatenate([r, g, b])\n",
    "        \n",
    "        # Normalize for quantum amplitude encoding\n",
    "        norm = np.sqrt(np.sum(combined**2))\n",
    "        if norm > 0:\n",
    "            normalized_amplitude = combined / norm\n",
    "        else:\n",
    "            normalized_amplitude = combined\n",
    "            \n",
    "        return normalized_amplitude\n",
    "        \n",
    "    except Exception as e:\n",
    "        raise Exception(f\"Error preprocessing image {image_path}: {str(e)}\")"
   ]
  },
  {
   "cell_type": "code",
   "execution_count": 5,
   "metadata": {},
   "outputs": [
    {
     "name": "stdout",
     "output_type": "stream",
     "text": [
      "Sample path: Train/20/00020_00000_00000.png\n",
      "Processed data shape: (3072,)\n",
      "Data range: [0.012, 0.036]\n"
     ]
    },
    {
     "data": {
      "image/png": "[encoded data removed]",
      "text/plain": [
       "<Figure size 500x500 with 1 Axes>"
      ]
     },
     "metadata": {},
     "output_type": "display_data"
    }
   ],
   "source": [
    "# Take first image from training set\n",
    "sample_path = train_df['Path'].iloc[0]\n",
    "sample_data = preprocess_image(sample_path)\n",
    "\n",
    "print(f\"Sample path: {sample_path}\")\n",
    "print(f\"Processed data shape: {sample_data.shape}\")\n",
    "print(f\"Data range: [{sample_data.min():.3f}, {sample_data.max():.3f}]\")\n",
    "\n",
    "# Display original image\n",
    "plt.figure(figsize=(5, 5))\n",
    "plt.imshow(Image.open(sample_path))\n",
    "plt.title(\"Original Image\")\n",
    "plt.show()"
   ]
  },
  {
   "cell_type": "code",
   "execution_count": 6,
   "metadata": {},
   "outputs": [
    {
     "name": "stderr",
     "output_type": "stream",
     "text": [
      "/opt/anaconda3/lib/python3.12/site-packages/numpy/linalg/linalg.py:2180: RuntimeWarning: divide by zero encountered in det\n",
      "  r = _umath_linalg.det(a, signature=signature)\n",
      "/opt/anaconda3/lib/python3.12/site-packages/numpy/linalg/linalg.py:2180: RuntimeWarning: invalid value encountered in det\n",
      "  r = _umath_linalg.det(a, signature=signature)\n"
     ]
    },
    {
     "data": {
      "text/plain": [
       "<qiskit.circuit.instructionset.InstructionSet at 0x16bc9e0b0>"
      ]
     },
     "execution_count": 6,
     "metadata": {},
     "output_type": "execute_result"
    }
   ],
   "source": [
    "# Create quantum circuit for encoding\n",
    "num_qubits = 12  # log2(3072) ≈ 12\n",
    "qr = QuantumRegister(num_qubits, 'q')\n",
    "cr = ClassicalRegister(num_qubits, 'c')\n",
    "circuit = QuantumCircuit(qr, cr)\n",
    "\n",
    "# Apply initial Hadamard gates\n",
    "circuit.h(qr)\n",
    "\n",
    "# Encode amplitudes using controlled rotations\n",
    "for i in range(min(len(sample_data), 2**num_qubits)):\n",
    "    if abs(sample_data[i]) > 1e-10:\n",
    "        binary = format(i, f'0{num_qubits}b')\n",
    "        \n",
    "        # Apply X gates for control qubits\n",
    "        for j, bit in enumerate(binary):\n",
    "            if bit == '1':\n",
    "                circuit.x(qr[j])\n",
    "        \n",
    "        # Calculate rotation angle\n",
    "        angle = 2 * np.arccos(np.sqrt(abs(sample_data[i]))) if sample_data[i] > 0 else 0\n",
    "        \n",
    "        # Multi-controlled rotation\n",
    "        if num_qubits > 1:\n",
    "            circuit.mcry(\n",
    "                theta=angle,\n",
    "                q_controls=[qr[j] for j in range(num_qubits-1)],\n",
    "                q_target=qr[-1]\n",
    "            )\n",
    "        else:\n",
    "            circuit.ry(angle, qr[0])\n",
    "        \n",
    "        # Uncompute X gates\n",
    "        for j, bit in enumerate(binary):\n",
    "            if bit == '1':\n",
    "                circuit.x(qr[j])\n",
    "\n",
    "#  Apply measurement gates\n",
    "circuit.barrier()\n",
    "circuit.measure(qr, cr)"
   ]
  },
  {
   "cell_type": "code",
   "execution_count": 7,
   "metadata": {},
   "outputs": [
    {
     "name": "stdout",
     "output_type": "stream",
     "text": [
      "Number of qubits: 12\n",
      "Number of gates: 59416\n",
      "Depth of the circuit: 27650\n"
     ]
    }
   ],
   "source": [
    "print(f\"Number of qubits: {circuit.num_qubits}\")\n",
    "print(f\"Number of gates: {circuit.size()}\")\n",
    "print(f\"Depth of the circuit: {circuit.depth()}\")"
   ]
  },
  {
   "cell_type": "code",
   "execution_count": 8,
   "metadata": {},
   "outputs": [],
   "source": [
    "# Create a smaller circuit with only a few gates\n",
    "partial_circuit = QuantumCircuit(*circuit.qregs, *circuit.cregs)\n",
    "for instruction in circuit.data[:10]:  # Change 10 to a suitable number based on performance\n",
    "    operation = instruction.operation\n",
    "    qubits = instruction.qubits\n",
    "    clbits = instruction.clbits\n",
    "    partial_circuit.append(operation, qubits, clbits)"
   ]
  },
  {
   "cell_type": "code",
   "execution_count": 9,
   "metadata": {},
   "outputs": [
    {
     "data": {
      "image/png": "[encoded data removed]",
      "text/plain": [
       "<Figure size 221.914x1120.39 with 1 Axes>"
      ]
     },
     "metadata": {},
     "output_type": "display_data"
    }
   ],
   "source": [
    "# Visualize the partial circuit\n",
    "display(partial_circuit.draw(output=\"mpl\"))"
   ]
  },
  {
   "cell_type": "code",
   "execution_count": 10,
   "metadata": {},
   "outputs": [
    {
     "name": "stdout",
     "output_type": "stream",
     "text": [
      "Number of amplitudes in the smaller circuit state vector: 4096\n"
     ]
    }
   ],
   "source": [
    "# Get the state vector of the smaller circuit\n",
    "state_vector = Statevector.from_instruction(partial_circuit)\n",
    "print(f\"Number of amplitudes in the smaller circuit state vector: {len(state_vector)}\")"
   ]
  },
  {
   "cell_type": "code",
   "execution_count": 11,
   "metadata": {},
   "outputs": [
    {
     "name": "stdout",
     "output_type": "stream",
     "text": [
      "Measurement outcome counts (partial circuit): {'000011101000 000000000000': 1, '000100110001 000000000000': 1, '001000111010 000000000000': 1, '001001101001 000000000000': 1, '001111110101 000000000000': 1, '001111110110 000000000000': 1, '000011100000 000000000000': 1, '000100111001 000000000000': 1, '000001011001 000000000000': 1, '001000101100 000000000000': 1, '001100110111 000000000000': 1, '000111000011 000000000000': 1, '000000100101 000000000000': 1, '001100101110 000000000000': 1, '000010101100 000000000000': 1, '001110111110 000000000000': 1, '000001001011 000000000000': 1, '001100011101 000000000000': 1, '000100011111 000000000000': 1, '001111000101 000000000000': 1, '000001100110 000000000000': 1, '000011001110 000000000000': 1, '000000011111 000000000000': 1, '000000111000 000000000000': 2, '001100001100 000000000000': 1, '001011101100 000000000000': 1, '001010101101 000000000000': 1, '000111010111 000000000000': 1, '001111101001 000000000000': 1, '001011111101 000000000000': 1, '000100001011 000000000000': 1, '000010000100 000000000000': 1, '001001110010 000000000000': 1, '001101111010 000000000000': 1, '000100111011 000000000000': 1, '000000111010 000000000000': 1, '000111101100 000000000000': 1, '001101001010 000000000000': 1, '000011011110 000000000000': 2, '000001101001 000000000000': 2, '001100101101 000000000000': 1, '000110101000 000000000000': 1, '000111001100 000000000000': 1, '001011011000 000000000000': 1, '001111101000 000000000000': 1, '001000010111 000000000000': 1, '000110101011 000000000000': 1, '001000010001 000000000000': 2, '000111111110 000000000000': 1, '000000110011 000000000000': 1, '000100100100 000000000000': 1, '000010110010 000000000000': 1, '001111100011 000000000000': 1, '001100000111 000000000000': 1, '001011111100 000000000000': 1, '000010011010 000000000000': 1, '000110011110 000000000000': 1, '001001001010 000000000000': 1, '000100000011 000000000000': 2, '001000011001 000000000000': 1, '000100001010 000000000000': 1, '001010110111 000000000000': 1, '001111111111 000000000000': 1, '001001010000 000000000000': 1, '001111010011 000000000000': 1, '001100001000 000000000000': 1, '000000100010 000000000000': 1, '001111111110 000000000000': 1, '000011000000 000000000000': 1, '000000111001 000000000000': 2, '000011001010 000000000000': 1, '001111001001 000000000000': 1, '001111011100 000000000000': 1, '000110110110 000000000000': 2, '001111101100 000000000000': 1, '001110110011 000000000000': 1, '001010011110 000000000000': 1, '001011011001 000000000000': 1, '001111001110 000000000000': 1, '001010100011 000000000000': 2, '000010100111 000000000000': 1, '001110111100 000000000000': 1, '001111100110 000000000000': 1, '000010010101 000000000000': 1, '000011110100 000000000000': 1, '000010111001 000000000000': 1, '001011101110 000000000000': 1, '000110010001 000000000000': 1, '001111010111 000000000000': 1, '000001010000 000000000000': 1, '000001110011 000000000000': 1, '001100100101 000000000000': 1, '001110110111 000000000000': 1, '000011000010 000000000000': 1, '001110100010 000000000000': 1, '000000101010 000000000000': 1, '000000011101 000000000000': 1, '000110001011 000000000000': 1, '000100100101 000000000000': 1, '000101010001 000000000000': 1, '000111010000 000000000000': 1, '001110010001 000000000000': 1, '000010010010 000000000000': 1, '001011101011 000000000000': 1, '000001110111 000000000000': 1, '001110100100 000000000000': 1, '000100001110 000000000000': 1, '000010101111 000000000000': 1, '001110011111 000000000000': 1, '001000001000 000000000000': 1, '000110001100 000000000000': 1, '001111011010 000000000000': 1, '000011000100 000000000000': 2, '001100111000 000000000000': 1, '001100111111 000000000000': 1, '001100010010 000000000000': 2, '000011001001 000000000000': 1, '000000110111 000000000000': 1, '001101000011 000000000000': 1, '001101101001 000000000000': 1, '000100011110 000000000000': 1, '000100111100 000000000000': 1, '001011100111 000000000000': 1, '001000000010 000000000000': 1, '000101101111 000000000000': 2, '000111011101 000000000000': 1, '001010000110 000000000000': 1, '001111111001 000000000000': 1, '001111100100 000000000000': 1, '000101110010 000000000000': 1, '001011000110 000000000000': 1, '001001111011 000000000000': 1, '000100010111 000000000000': 1, '001100010100 000000000000': 1, '001100000110 000000000000': 1, '000110101110 000000000000': 1, '000110110100 000000000000': 1, '001101011111 000000000000': 1, '001000010110 000000000000': 1, '000100101100 000000000000': 1, '001001010101 000000000000': 1, '001110111011 000000000000': 1, '001110110001 000000000000': 1, '001010110010 000000000000': 1, '000010010000 000000000000': 1, '001100010111 000000000000': 1, '000000111111 000000000000': 1, '000111000101 000000000000': 1, '000000101101 000000000000': 2, '001000001011 000000000000': 1, '000010110000 000000000000': 1, '000110011100 000000000000': 1, '001101111011 000000000000': 1, '000111000010 000000000000': 1, '000001110101 000000000000': 1, '001101100001 000000000000': 1, '001111100010 000000000000': 1, '001100111001 000000000000': 2, '001001000100 000000000000': 2, '000110010010 000000000000': 2, '000000110101 000000000000': 1, '000001110100 000000000000': 1, '001001111111 000000000000': 1, '000100001000 000000000000': 1, '001100111011 000000000000': 2, '000111101101 000000000000': 2, '001110101010 000000000000': 2, '001010111100 000000000000': 1, '000010001101 000000000000': 2, '000001001001 000000000000': 1, '001000110110 000000000000': 1, '000101110000 000000000000': 1, '001000100011 000000000000': 1, '000111011110 000000000000': 1, '001011110111 000000000000': 1, '001001011000 000000000000': 1, '000010011011 000000000000': 1, '001111011101 000000000000': 1, '001010011111 000000000000': 1, '000101010111 000000000000': 1, '000100101000 000000000000': 1, '000111100010 000000000000': 2, '000010011100 000000000000': 1, '000001000110 000000000000': 1, '000011111100 000000000000': 2, '000011100100 000000000000': 2, '001110010010 000000000000': 1, '001001000010 000000000000': 1, '001111011111 000000000000': 1, '001011010101 000000000000': 1, '001001100111 000000000000': 1, '000011001111 000000000000': 1, '001100000010 000000000000': 2, '000100010011 000000000000': 1, '001011011111 000000000000': 1, '000011000011 000000000000': 1, '001110001110 000000000000': 1, '000100011100 000000000000': 1, '001000011101 000000000000': 2, '001101000111 000000000000': 1, '000000000110 000000000000': 1, '000000010000 000000000000': 1, '000110101101 000000000000': 2, '001100011010 000000000000': 1, '000101001000 000000000000': 1, '001011111111 000000000000': 1, '000111111000 000000000000': 1, '001101111001 000000000000': 1, '000001000001 000000000000': 1, '001010110011 000000000000': 1, '001011011011 000000000000': 2, '001000001001 000000000000': 1, '001010111011 000000000000': 1, '001000110001 000000000000': 1, '000000101100 000000000000': 1, '000110110111 000000000000': 1, '001001001110 000000000000': 1, '000110001101 000000000000': 1, '001111010001 000000000000': 1, '000101010100 000000000000': 1, '001011111000 000000000000': 1, '001001110101 000000000000': 1, '001100010101 000000000000': 1, '000011011100 000000000000': 1, '000010011001 000000000000': 1, '000101101001 000000000000': 2, '001101111111 000000000000': 1, '000000110010 000000000000': 1, '000111110001 000000000000': 1}\n"
     ]
    }
   ],
   "source": [
    "# Add measurement operations to all qubits\n",
    "partial_circuit.measure_all()\n",
    "# Use Aer simulator to sample the outcomes\n",
    "backend = AerSimulator()\n",
    "\n",
    "# Compile and simulate the smaller circuit\n",
    "compiled_partial = transpile(partial_circuit, backend, optimization_level=3)\n",
    "job = backend.run(compiled_partial, shots=256)\n",
    "result = job.result()\n",
    "counts = result.get_counts(compiled_partial)\n",
    "print(\"Measurement outcome counts (partial circuit):\", counts)"
   ]
  },
  {
   "cell_type": "code",
   "execution_count": 12,
   "metadata": {},
   "outputs": [
    {
     "name": "stdout",
     "output_type": "stream",
     "text": [
      "Processed 5 images\n",
      "Labels: [20 20 20 20 20]\n"
     ]
    }
   ],
   "source": [
    "# Function to prepare batches\n",
    "def prepare_batch(df: pd.DataFrame, batch_size: int = 32) -> Tuple[List[np.ndarray], np.ndarray]:\n",
    "    # Prepare a batch of images for quantum encoding.\n",
    "    \n",
    "    processed_images = []\n",
    "    \n",
    "    # Process images in batches\n",
    "    for i in range(0, len(df), batch_size):\n",
    "        batch_df = df.iloc[i:i+batch_size]\n",
    "        batch_images = [preprocess_image(path) for path in batch_df['Path']]\n",
    "        processed_images.extend(batch_images)\n",
    "    \n",
    "    return processed_images, df['ClassId'].values\n",
    "\n",
    "# Test batch processing with a small batch\n",
    "sample_batch, sample_labels = prepare_batch(train_df.head(), batch_size=5)\n",
    "print(f\"Processed {len(sample_batch)} images\")\n",
    "print(f\"Labels: {sample_labels}\")"
   ]
  },
  {
   "cell_type": "code",
   "execution_count": 13,
   "metadata": {},
   "outputs": [
    {
     "name": "stdout",
     "output_type": "stream",
     "text": [
      "Number of qubits in the circuit: 12\n"
     ]
    }
   ],
   "source": [
    "print(f\"Number of qubits in the circuit: {partial_circuit.num_qubits}\")"
   ]
  }
 ],
 "metadata": {
  "kernelspec": {
   "display_name": "base",
   "language": "python",
   "name": "python3"
  },
  "language_info": {
   "codemirror_mode": {
    "name": "ipython",
    "version": 3
   },
   "file_extension": ".py",
   "mimetype": "text/x-python",
   "name": "python",
   "nbconvert_exporter": "python",
   "pygments_lexer": "ipython3",
   "version": "3.12.4"
  }
 },
 "nbformat": 4,
 "nbformat_minor": 4
}
